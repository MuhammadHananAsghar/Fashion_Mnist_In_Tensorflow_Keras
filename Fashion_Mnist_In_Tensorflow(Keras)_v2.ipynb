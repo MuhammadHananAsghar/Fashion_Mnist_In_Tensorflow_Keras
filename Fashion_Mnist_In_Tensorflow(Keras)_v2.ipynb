{
  "nbformat": 4,
  "nbformat_minor": 0,
  "metadata": {
    "colab": {
      "name": "Fashion Mnist In Tensorflow(Keras).ipynb",
      "provenance": [],
      "collapsed_sections": []
    },
    "kernelspec": {
      "name": "python3",
      "display_name": "Python 3"
    },
    "language_info": {
      "name": "python"
    },
    "accelerator": "GPU"
  },
  "cells": [
    {
      "cell_type": "markdown",
      "metadata": {
        "id": "JMtXrbxI2-7O"
      },
      "source": [
        "Importing Libraries"
      ]
    },
    {
      "cell_type": "code",
      "metadata": {
        "id": "DT_B1xbf21gU"
      },
      "source": [
        "import tensorflow as tf\n",
        "from tensorflow import keras\n",
        "from tensorflow.keras.models import Sequential\n",
        "from tensorflow.keras.layers import Dense\n",
        "from tensorflow.keras.layers import Dropout\n",
        "from tensorflow.keras.utils import to_categorical\n",
        "from tensorflow.keras.datasets import fashion_mnist\n",
        "\n",
        "import numpy as np\n",
        "import matplotlib.pyplot as plt"
      ],
      "execution_count": 41,
      "outputs": []
    },
    {
      "cell_type": "markdown",
      "metadata": {
        "id": "e1gIAIBO3a1Q"
      },
      "source": [
        "Loading Dataset"
      ]
    },
    {
      "cell_type": "code",
      "metadata": {
        "colab": {
          "base_uri": "https://localhost:8080/"
        },
        "id": "qOE5fp9J3ZNY",
        "outputId": "bb5ed515-1909-4be6-eb88-4dbec0917134"
      },
      "source": [
        "(train_images, train_labels), (test_images, test_labels) = fashion_mnist.load_data()\n",
        "\n",
        "print(\"Train Images : \", train_images.shape)\n",
        "print(\"Train Labels : \", train_labels.shape)\n",
        "print(\"Test Images : \", test_images.shape)\n",
        "print(\"Test Labels : \", test_labels.shape)"
      ],
      "execution_count": 42,
      "outputs": [
        {
          "output_type": "stream",
          "text": [
            "Train Images :  (60000, 28, 28)\n",
            "Train Labels :  (60000,)\n",
            "Test Images :  (10000, 28, 28)\n",
            "Test Labels :  (10000,)\n"
          ],
          "name": "stdout"
        }
      ]
    },
    {
      "cell_type": "markdown",
      "metadata": {
        "id": "ForJ9bDi4Hjv"
      },
      "source": [
        "Preprocessing"
      ]
    },
    {
      "cell_type": "code",
      "metadata": {
        "id": "qrl9Cuu54oIK"
      },
      "source": [
        "train_images = train_images.reshape(60000, 28*28)\n",
        "test_images = test_images.reshape(10000, 28*28)"
      ],
      "execution_count": 43,
      "outputs": []
    },
    {
      "cell_type": "code",
      "metadata": {
        "id": "-3AY2y3t3z6X"
      },
      "source": [
        "train_images = train_images.astype(\"float32\")\n",
        "test_images = test_images.astype(\"float32\")"
      ],
      "execution_count": 44,
      "outputs": []
    },
    {
      "cell_type": "code",
      "metadata": {
        "id": "dBxdulys4LI6"
      },
      "source": [
        "train_images /= 255\n",
        "test_images /= 255"
      ],
      "execution_count": 45,
      "outputs": []
    },
    {
      "cell_type": "code",
      "metadata": {
        "id": "S8EP00oS4ppG"
      },
      "source": [
        "classes = 10\n",
        "\n",
        "train_labels = to_categorical(train_labels, num_classes=classes)\n",
        "test_labels = to_categorical(test_labels, num_classes=classes)"
      ],
      "execution_count": 46,
      "outputs": []
    },
    {
      "cell_type": "code",
      "metadata": {
        "colab": {
          "base_uri": "https://localhost:8080/",
          "height": 283
        },
        "id": "bv7FDa7V6xJV",
        "outputId": "1913274b-664c-4d4f-93e4-f52ed8c24b69"
      },
      "source": [
        "plt.imshow(train_images[0].reshape(28, 28), cmap='binary')"
      ],
      "execution_count": 47,
      "outputs": [
        {
          "output_type": "execute_result",
          "data": {
            "text/plain": [
              "<matplotlib.image.AxesImage at 0x7f0e4623a110>"
            ]
          },
          "metadata": {
            "tags": []
          },
          "execution_count": 47
        },
        {
          "output_type": "display_data",
          "data": {
            "image/png": "[encoded data removed]",
            "text/plain": [
              "<Figure size 432x288 with 1 Axes>"
            ]
          },
          "metadata": {
            "tags": [],
            "needs_background": "light"
          }
        }
      ]
    },
    {
      "cell_type": "code",
      "metadata": {
        "colab": {
          "base_uri": "https://localhost:8080/"
        },
        "id": "mkLP3Jcn6qIp",
        "outputId": "f560801d-9415-4de4-9b3c-b8fd57019377"
      },
      "source": [
        "train_labels[0]"
      ],
      "execution_count": 48,
      "outputs": [
        {
          "output_type": "execute_result",
          "data": {
            "text/plain": [
              "array([0., 0., 0., 0., 0., 0., 0., 0., 0., 1.], dtype=float32)"
            ]
          },
          "metadata": {
            "tags": []
          },
          "execution_count": 48
        }
      ]
    },
    {
      "cell_type": "code",
      "metadata": {
        "id": "YxL1OtvI6sTD"
      },
      "source": [
        "labels = {0:\"T-shirt/top\",\n",
        "1:\"Trouser\",\n",
        "2:\"Pullover\",\n",
        "3:\"Dress\",\n",
        "4:\"Coat\",\n",
        "5:\"Sandal\",\n",
        "6:\"Shirt\",\n",
        "7:\"Sneaker\",\n",
        "8:\"Bag\",\n",
        "9:\"Ankle boot\"}"
      ],
      "execution_count": 49,
      "outputs": []
    },
    {
      "cell_type": "markdown",
      "metadata": {
        "id": "0vTGR7wO7Wbq"
      },
      "source": [
        "Model"
      ]
    },
    {
      "cell_type": "markdown",
      "metadata": {
        "id": "sJnSGiUz8RSg"
      },
      "source": [
        "Model_1 : One Dense Layer"
      ]
    },
    {
      "cell_type": "code",
      "metadata": {
        "id": "rdiDT_wg7O_3"
      },
      "source": [
        "model_one = Sequential()\n",
        "\n",
        "model_one.add(Dense(units=1000, input_shape=(784,), activation=tf.nn.relu))\n",
        "model_one.add(Dropout(rate=0.2))\n",
        "\n",
        "model_one.add(Dense(classes, activation=tf.nn.softmax))\n",
        "\n",
        "model_one.compile(loss='categorical_crossentropy',\n",
        "              optimizer='adam',\n",
        "              metrics=['accuracy'])"
      ],
      "execution_count": null,
      "outputs": []
    },
    {
      "cell_type": "markdown",
      "metadata": {
        "id": "yewcA7BD8c57"
      },
      "source": [
        "Model_2 : Two Dense Layers"
      ]
    },
    {
      "cell_type": "code",
      "metadata": {
        "id": "ELeogF8d8Zmt"
      },
      "source": [
        "model_two = Sequential()\n",
        "\n",
        "model_two.add(Dense(units=1000, input_shape=(784,), activation=tf.nn.relu))\n",
        "model_two.add(Dropout(rate=0.2))\n",
        "\n",
        "model_two.add(Dense(units=1000, activation=tf.nn.relu))\n",
        "model_two.add(Dropout(rate=0.2))\n",
        "\n",
        "\n",
        "model_two.add(Dense(classes, activation=tf.nn.softmax))\n",
        "\n",
        "model_two.compile(loss='categorical_crossentropy',\n",
        "              optimizer='adam',\n",
        "              metrics=['accuracy'])"
      ],
      "execution_count": null,
      "outputs": []
    },
    {
      "cell_type": "markdown",
      "metadata": {
        "id": "V3n5CrTa8q-s"
      },
      "source": [
        "Model_3 : Three Dense Layers"
      ]
    },
    {
      "cell_type": "code",
      "metadata": {
        "id": "sMZqtCo98qUt"
      },
      "source": [
        "model_three = Sequential()\n",
        "\n",
        "model_three.add(Dense(units=1000, input_shape=(784,), activation=tf.nn.relu))\n",
        "model_three.add(Dropout(rate=0.2))\n",
        "\n",
        "model_three.add(Dense(units=1000, activation=tf.nn.relu))\n",
        "model_three.add(Dropout(rate=0.2))\n",
        "\n",
        "model_three.add(Dense(units=500, activation=tf.nn.relu))\n",
        "model_three.add(Dropout(rate=0.35))\n",
        "\n",
        "model_three.add(Dense(classes, activation=tf.nn.softmax))\n",
        "\n",
        "model_three.compile(loss='categorical_crossentropy',\n",
        "              optimizer='adam',\n",
        "              metrics=['accuracy'])"
      ],
      "execution_count": 50,
      "outputs": []
    },
    {
      "cell_type": "markdown",
      "metadata": {
        "id": "a6_y_T6T8yfW"
      },
      "source": [
        "Models Training"
      ]
    },
    {
      "cell_type": "code",
      "metadata": {
        "colab": {
          "base_uri": "https://localhost:8080/"
        },
        "id": "1xDOuv-w80qc",
        "outputId": "a1bf1025-2402-45e8-e098-593bc8508b01"
      },
      "source": [
        "# First Model\n",
        "history_one = model_one.fit(train_images, train_labels,\n",
        "                            epochs=10,\n",
        "                            validation_data=(test_images, test_labels))"
      ],
      "execution_count": null,
      "outputs": [
        {
          "output_type": "stream",
          "text": [
            "Epoch 1/10\n",
            "1875/1875 [==============================] - 10s 4ms/step - loss: 0.4916 - accuracy: 0.8239 - val_loss: 0.4431 - val_accuracy: 0.8383\n",
            "Epoch 2/10\n",
            "1875/1875 [==============================] - 8s 4ms/step - loss: 0.3824 - accuracy: 0.8603 - val_loss: 0.4132 - val_accuracy: 0.8484\n",
            "Epoch 3/10\n",
            "1875/1875 [==============================] - 7s 4ms/step - loss: 0.3487 - accuracy: 0.8712 - val_loss: 0.3687 - val_accuracy: 0.8640\n",
            "Epoch 4/10\n",
            "1875/1875 [==============================] - 7s 4ms/step - loss: 0.3290 - accuracy: 0.8783 - val_loss: 0.3510 - val_accuracy: 0.8723\n",
            "Epoch 5/10\n",
            "1875/1875 [==============================] - 7s 4ms/step - loss: 0.3105 - accuracy: 0.8855 - val_loss: 0.3360 - val_accuracy: 0.8781\n",
            "Epoch 6/10\n",
            "1875/1875 [==============================] - 7s 4ms/step - loss: 0.2981 - accuracy: 0.8892 - val_loss: 0.3438 - val_accuracy: 0.8769\n",
            "Epoch 7/10\n",
            "1875/1875 [==============================] - 7s 4ms/step - loss: 0.2900 - accuracy: 0.8919 - val_loss: 0.3461 - val_accuracy: 0.8749\n",
            "Epoch 8/10\n",
            "1875/1875 [==============================] - 8s 4ms/step - loss: 0.2769 - accuracy: 0.8958 - val_loss: 0.3432 - val_accuracy: 0.8768\n",
            "Epoch 9/10\n",
            "1875/1875 [==============================] - 8s 4ms/step - loss: 0.2675 - accuracy: 0.8991 - val_loss: 0.3460 - val_accuracy: 0.8803\n",
            "Epoch 10/10\n",
            "1875/1875 [==============================] - 7s 4ms/step - loss: 0.2639 - accuracy: 0.9003 - val_loss: 0.3337 - val_accuracy: 0.8805\n"
          ],
          "name": "stdout"
        }
      ]
    },
    {
      "cell_type": "code",
      "metadata": {
        "colab": {
          "base_uri": "https://localhost:8080/"
        },
        "id": "atwnJQGp9L0s",
        "outputId": "0297d671-9e54-4112-bdec-2d0b017a6a36"
      },
      "source": [
        "score_one = model_one.evaluate(test_images, test_labels)\n",
        "print(\"Test Loss : \", score_one[0])\n",
        "print(\"Test Accuracy : \", score_one[1])"
      ],
      "execution_count": null,
      "outputs": [
        {
          "output_type": "stream",
          "text": [
            "313/313 [==============================] - 1s 3ms/step - loss: 0.3337 - accuracy: 0.8805\n",
            "Test Loss :  0.33371224999427795\n",
            "Test Accuracy :  0.8805000185966492\n"
          ],
          "name": "stdout"
        }
      ]
    },
    {
      "cell_type": "code",
      "metadata": {
        "colab": {
          "base_uri": "https://localhost:8080/",
          "height": 313
        },
        "id": "GIyZOdZT9oG7",
        "outputId": "8d05f83c-115c-410d-879d-b971b1083dfd"
      },
      "source": [
        "epochs_one = range(len(history_one.history['accuracy']))\n",
        "plt.plot(epochs_one, history_one.history['val_accuracy'], 'bo', label = 'Validation Accuracy')\n",
        "plt.plot(epochs_one, history_one.history['accuracy'], 'b', label = 'Training Accuracy')\n",
        "plt.xlabel('Epochs')\n",
        "plt.ylabel('Accuracy')\n",
        "plt.title(\"Model_1 Trainind And Validation Accuracy\")\n",
        "plt.legend()"
      ],
      "execution_count": null,
      "outputs": [
        {
          "output_type": "execute_result",
          "data": {
            "text/plain": [
              "<matplotlib.legend.Legend at 0x7f0e4880e6d0>"
            ]
          },
          "metadata": {
            "tags": []
          },
          "execution_count": 29
        },
        {
          "output_type": "display_data",
          "data": {
            "image/png": "[encoded data removed]",
            "text/plain": [
              "<Figure size 432x288 with 1 Axes>"
            ]
          },
          "metadata": {
            "tags": [],
            "needs_background": "light"
          }
        }
      ]
    },
    {
      "cell_type": "code",
      "metadata": {
        "colab": {
          "base_uri": "https://localhost:8080/",
          "height": 313
        },
        "id": "6eUP0M8y-px1",
        "outputId": "eed45b62-0d63-4f30-c408-b2ad2f4c6fa3"
      },
      "source": [
        "epochs_one = range(len(history_one.history['accuracy']))\n",
        "plt.plot(epochs_one, history_one.history['val_loss'], 'bo', label = 'Validation Loss')\n",
        "plt.plot(epochs_one, history_one.history['loss'], 'b', label = 'Training Loss')\n",
        "plt.xlabel('Epochs')\n",
        "plt.ylabel('Loss')\n",
        "plt.title(\"Model_1 Trainind And Validation Loss\")\n",
        "plt.legend()"
      ],
      "execution_count": null,
      "outputs": [
        {
          "output_type": "execute_result",
          "data": {
            "text/plain": [
              "<matplotlib.legend.Legend at 0x7f0e4ba23b10>"
            ]
          },
          "metadata": {
            "tags": []
          },
          "execution_count": 31
        },
        {
          "output_type": "display_data",
          "data": {
            "image/png": "[encoded data removed]",
            "text/plain": [
              "<Figure size 432x288 with 1 Axes>"
            ]
          },
          "metadata": {
            "tags": [],
            "needs_background": "light"
          }
        }
      ]
    },
    {
      "cell_type": "code",
      "metadata": {
        "colab": {
          "base_uri": "https://localhost:8080/"
        },
        "id": "yvygnOYs-0K3",
        "outputId": "f10d8854-be0f-4ece-83d5-44641477cee8"
      },
      "source": [
        "# Second Model\n",
        "history_two = model_two.fit(train_images, train_labels,\n",
        "                            epochs=10,\n",
        "                            validation_data=(test_images, test_labels))"
      ],
      "execution_count": null,
      "outputs": [
        {
          "output_type": "stream",
          "text": [
            "Epoch 1/10\n",
            "1875/1875 [==============================] - 11s 5ms/step - loss: 0.4991 - accuracy: 0.8192 - val_loss: 0.4298 - val_accuracy: 0.8395\n",
            "Epoch 2/10\n",
            "1875/1875 [==============================] - 9s 5ms/step - loss: 0.3919 - accuracy: 0.8564 - val_loss: 0.3756 - val_accuracy: 0.8642\n",
            "Epoch 3/10\n",
            "1875/1875 [==============================] - 9s 5ms/step - loss: 0.3644 - accuracy: 0.8660 - val_loss: 0.3687 - val_accuracy: 0.8678\n",
            "Epoch 4/10\n",
            "1875/1875 [==============================] - 10s 5ms/step - loss: 0.3474 - accuracy: 0.8723 - val_loss: 0.3674 - val_accuracy: 0.8693\n",
            "Epoch 5/10\n",
            "1875/1875 [==============================] - 10s 5ms/step - loss: 0.3287 - accuracy: 0.8780 - val_loss: 0.3565 - val_accuracy: 0.8680\n",
            "Epoch 6/10\n",
            "1875/1875 [==============================] - 10s 5ms/step - loss: 0.3170 - accuracy: 0.8817 - val_loss: 0.3487 - val_accuracy: 0.8759\n",
            "Epoch 7/10\n",
            "1875/1875 [==============================] - 10s 5ms/step - loss: 0.3079 - accuracy: 0.8856 - val_loss: 0.3330 - val_accuracy: 0.8807\n",
            "Epoch 8/10\n",
            "1875/1875 [==============================] - 10s 5ms/step - loss: 0.2979 - accuracy: 0.8901 - val_loss: 0.3500 - val_accuracy: 0.8797\n",
            "Epoch 9/10\n",
            "1875/1875 [==============================] - 9s 5ms/step - loss: 0.2922 - accuracy: 0.8914 - val_loss: 0.3347 - val_accuracy: 0.8837\n",
            "Epoch 10/10\n",
            "1875/1875 [==============================] - 10s 5ms/step - loss: 0.2847 - accuracy: 0.8925 - val_loss: 0.3646 - val_accuracy: 0.8755\n"
          ],
          "name": "stdout"
        }
      ]
    },
    {
      "cell_type": "code",
      "metadata": {
        "colab": {
          "base_uri": "https://localhost:8080/"
        },
        "id": "6LZVc_UL_Wg6",
        "outputId": "1f6f87b9-b7cb-4493-9697-748cedbef983"
      },
      "source": [
        "score_two = model_two.evaluate(test_images, test_labels)\n",
        "print(\"Test Loss : \", score_two[0])\n",
        "print(\"Test Accuracy : \", score_two[1])"
      ],
      "execution_count": null,
      "outputs": [
        {
          "output_type": "stream",
          "text": [
            "313/313 [==============================] - 1s 3ms/step - loss: 0.3646 - accuracy: 0.8755\n",
            "Test Loss :  0.3645584285259247\n",
            "Test Accuracy :  0.8755000233650208\n"
          ],
          "name": "stdout"
        }
      ]
    },
    {
      "cell_type": "code",
      "metadata": {
        "colab": {
          "base_uri": "https://localhost:8080/",
          "height": 313
        },
        "id": "hsmsrPiU_gyH",
        "outputId": "d1c15336-8165-433c-f4a8-9e5615b46b55"
      },
      "source": [
        "epochs_two = range(len(history_two.history['accuracy']))\n",
        "plt.plot(epochs_two, history_two.history['val_accuracy'], 'bo', label = 'Validation Accuracy')\n",
        "plt.plot(epochs_two, history_two.history['accuracy'], 'b', label = 'Training Accuracy')\n",
        "plt.xlabel('Epochs')\n",
        "plt.ylabel('Accuracy')\n",
        "plt.title(\"Model_2 Trainind And Validation Accuracy\")\n",
        "plt.legend()"
      ],
      "execution_count": null,
      "outputs": [
        {
          "output_type": "execute_result",
          "data": {
            "text/plain": [
              "<matplotlib.legend.Legend at 0x7f0e48589f10>"
            ]
          },
          "metadata": {
            "tags": []
          },
          "execution_count": 34
        },
        {
          "output_type": "display_data",
          "data": {
            "image/png": "[encoded data removed]",
            "text/plain": [
              "<Figure size 432x288 with 1 Axes>"
            ]
          },
          "metadata": {
            "tags": [],
            "needs_background": "light"
          }
        }
      ]
    },
    {
      "cell_type": "code",
      "metadata": {
        "colab": {
          "base_uri": "https://localhost:8080/",
          "height": 313
        },
        "id": "yoY_18a1_rSx",
        "outputId": "50fe7523-55ed-4bfc-898c-1546a5b42a54"
      },
      "source": [
        "epochs_two = range(len(history_two.history['accuracy']))\n",
        "plt.plot(epochs_two, history_two.history['val_loss'], 'bo', label = 'Validation Loss')\n",
        "plt.plot(epochs_two, history_two.history['loss'], 'b', label = 'Training Loss')\n",
        "plt.xlabel('Epochs')\n",
        "plt.ylabel('Loss')\n",
        "plt.title(\"Model_2 Trainind And Validation Loss\")\n",
        "plt.legend()"
      ],
      "execution_count": null,
      "outputs": [
        {
          "output_type": "execute_result",
          "data": {
            "text/plain": [
              "<matplotlib.legend.Legend at 0x7f0e4858f810>"
            ]
          },
          "metadata": {
            "tags": []
          },
          "execution_count": 35
        },
        {
          "output_type": "display_data",
          "data": {
            "image/png": "[encoded data removed]",
            "text/plain": [
              "<Figure size 432x288 with 1 Axes>"
            ]
          },
          "metadata": {
            "tags": [],
            "needs_background": "light"
          }
        }
      ]
    },
    {
      "cell_type": "code",
      "metadata": {
        "colab": {
          "base_uri": "https://localhost:8080/"
        },
        "id": "y3AoqaCg_m-D",
        "outputId": "678f125a-1961-4759-f9b7-255652fb4ee2"
      },
      "source": [
        "# Third Model\n",
        "history_three = model_three.fit(train_images, train_labels,\n",
        "                            epochs=10,\n",
        "                            validation_data=(test_images, test_labels))"
      ],
      "execution_count": null,
      "outputs": [
        {
          "output_type": "stream",
          "text": [
            "Epoch 1/10\n",
            "1875/1875 [==============================] - 11s 6ms/step - loss: 0.5371 - accuracy: 0.8053 - val_loss: 0.4415 - val_accuracy: 0.8349\n",
            "Epoch 2/10\n",
            "1875/1875 [==============================] - 11s 6ms/step - loss: 0.4228 - accuracy: 0.8485 - val_loss: 0.3910 - val_accuracy: 0.8602\n",
            "Epoch 3/10\n",
            "1875/1875 [==============================] - 11s 6ms/step - loss: 0.3899 - accuracy: 0.8590 - val_loss: 0.3929 - val_accuracy: 0.8613\n",
            "Epoch 4/10\n",
            "1875/1875 [==============================] - 11s 6ms/step - loss: 0.3700 - accuracy: 0.8666 - val_loss: 0.3630 - val_accuracy: 0.8686\n",
            "Epoch 5/10\n",
            "1875/1875 [==============================] - 11s 6ms/step - loss: 0.3553 - accuracy: 0.8715 - val_loss: 0.3639 - val_accuracy: 0.8725\n",
            "Epoch 6/10\n",
            "1875/1875 [==============================] - 11s 6ms/step - loss: 0.3453 - accuracy: 0.8753 - val_loss: 0.3570 - val_accuracy: 0.8716\n",
            "Epoch 7/10\n",
            "1875/1875 [==============================] - 11s 6ms/step - loss: 0.3393 - accuracy: 0.8792 - val_loss: 0.3524 - val_accuracy: 0.8741\n",
            "Epoch 8/10\n",
            "1875/1875 [==============================] - 11s 6ms/step - loss: 0.3294 - accuracy: 0.8801 - val_loss: 0.3603 - val_accuracy: 0.8721\n",
            "Epoch 9/10\n",
            "1875/1875 [==============================] - 11s 6ms/step - loss: 0.3240 - accuracy: 0.8834 - val_loss: 0.3663 - val_accuracy: 0.8741\n",
            "Epoch 10/10\n",
            "1875/1875 [==============================] - 11s 6ms/step - loss: 0.3178 - accuracy: 0.8842 - val_loss: 0.3546 - val_accuracy: 0.8775\n"
          ],
          "name": "stdout"
        }
      ]
    },
    {
      "cell_type": "code",
      "metadata": {
        "colab": {
          "base_uri": "https://localhost:8080/"
        },
        "id": "Noy2VOUjAKfq",
        "outputId": "83f84327-1545-486f-b86b-8c84c0a76d81"
      },
      "source": [
        "score_three = model_three.evaluate(test_images, test_labels)\n",
        "print(\"Test Loss : \", score_three[0])\n",
        "print(\"Test Accuracy : \", score_three[1])"
      ],
      "execution_count": null,
      "outputs": [
        {
          "output_type": "stream",
          "text": [
            "313/313 [==============================] - 1s 3ms/step - loss: 0.3546 - accuracy: 0.8775\n",
            "Test Loss :  0.35462602972984314\n",
            "Test Accuracy :  0.8774999976158142\n"
          ],
          "name": "stdout"
        }
      ]
    },
    {
      "cell_type": "code",
      "metadata": {
        "colab": {
          "base_uri": "https://localhost:8080/",
          "height": 313
        },
        "id": "9Z-qKvQHAcsQ",
        "outputId": "7bffe5e3-2dce-41bf-f2e1-282efe57c426"
      },
      "source": [
        "epochs_three = range(len(history_three.history['accuracy']))\n",
        "plt.plot(epochs_three, history_three.history['val_accuracy'], 'bo', label = 'Validation Accuracy')\n",
        "plt.plot(epochs_three, history_three.history['accuracy'], 'b', label = 'Training Accuracy')\n",
        "plt.xlabel('Epochs')\n",
        "plt.ylabel('Accuracy')\n",
        "plt.title(\"Model_3 Trainind And Validation Accuracy\")\n",
        "plt.legend()"
      ],
      "execution_count": null,
      "outputs": [
        {
          "output_type": "execute_result",
          "data": {
            "text/plain": [
              "<matplotlib.legend.Legend at 0x7f0e473598d0>"
            ]
          },
          "metadata": {
            "tags": []
          },
          "execution_count": 39
        },
        {
          "output_type": "display_data",
          "data": {
            "image/png": "[encoded data removed]",
            "text/plain": [
              "<Figure size 432x288 with 1 Axes>"
            ]
          },
          "metadata": {
            "tags": [],
            "needs_background": "light"
          }
        }
      ]
    },
    {
      "cell_type": "code",
      "metadata": {
        "colab": {
          "base_uri": "https://localhost:8080/",
          "height": 313
        },
        "id": "8sQtZQogAlr-",
        "outputId": "b56fb4c2-2ebf-40ce-841f-2513f4e87a37"
      },
      "source": [
        "epochs_three = range(len(history_three.history['accuracy']))\n",
        "plt.plot(epochs_three, history_three.history['val_loss'], 'bo', label = 'Validation Loss')\n",
        "plt.plot(epochs_three, history_three.history['loss'], 'b', label = 'Training Loss')\n",
        "plt.xlabel('Epochs')\n",
        "plt.ylabel('Loss')\n",
        "plt.title(\"Model_3 Trainind And Validation Loss\")\n",
        "plt.legend()"
      ],
      "execution_count": null,
      "outputs": [
        {
          "output_type": "execute_result",
          "data": {
            "text/plain": [
              "<matplotlib.legend.Legend at 0x7f0e4733a7d0>"
            ]
          },
          "metadata": {
            "tags": []
          },
          "execution_count": 40
        },
        {
          "output_type": "display_data",
          "data": {
            "image/png": "[encoded data removed]",
            "text/plain": [
              "<Figure size 432x288 with 1 Axes>"
            ]
          },
          "metadata": {
            "tags": [],
            "needs_background": "light"
          }
        }
      ]
    },
    {
      "cell_type": "code",
      "metadata": {
        "id": "q5ZTigKSA6a7"
      },
      "source": [
        "class fashionCallback(tf.keras.callbacks.Callback):\n",
        "  def on_epoch_end(self, epoch, logs={}):\n",
        "    if(logs.get('loss') < 0.35):\n",
        "      print('\\nLoss is low so cancelling training!')\n",
        "      self.model.stop_training = True"
      ],
      "execution_count": 51,
      "outputs": []
    },
    {
      "cell_type": "code",
      "metadata": {
        "colab": {
          "base_uri": "https://localhost:8080/"
        },
        "id": "l5W5N-S9DnGp",
        "outputId": "c719f8a9-d9f7-4b5b-d37d-b67cd6dff1da"
      },
      "source": [
        "callbacks = fashionCallback()\n",
        "history_three_callback = model_three.fit(train_images, train_labels,\n",
        "                                         epochs=10,\n",
        "                                         validation_data=(test_images, test_labels),\n",
        "                                         callbacks=[callbacks])"
      ],
      "execution_count": 53,
      "outputs": [
        {
          "output_type": "stream",
          "text": [
            "Epoch 1/10\n",
            "1875/1875 [==============================] - 12s 6ms/step - loss: 0.5348 - accuracy: 0.8069 - val_loss: 0.4119 - val_accuracy: 0.8508\n",
            "Epoch 2/10\n",
            "1875/1875 [==============================] - 11s 6ms/step - loss: 0.4200 - accuracy: 0.8486 - val_loss: 0.4060 - val_accuracy: 0.8495\n",
            "Epoch 3/10\n",
            "1875/1875 [==============================] - 11s 6ms/step - loss: 0.3843 - accuracy: 0.8606 - val_loss: 0.3877 - val_accuracy: 0.8592\n",
            "Epoch 4/10\n",
            "1875/1875 [==============================] - 11s 6ms/step - loss: 0.3739 - accuracy: 0.8650 - val_loss: 0.3677 - val_accuracy: 0.8661\n",
            "Epoch 5/10\n",
            "1875/1875 [==============================] - 11s 6ms/step - loss: 0.3538 - accuracy: 0.8722 - val_loss: 0.3751 - val_accuracy: 0.8669\n",
            "Epoch 6/10\n",
            "1875/1875 [==============================] - 11s 6ms/step - loss: 0.3473 - accuracy: 0.8754 - val_loss: 0.3759 - val_accuracy: 0.8701\n",
            "\n",
            "Loss is low so cancelling training!\n"
          ],
          "name": "stdout"
        }
      ]
    },
    {
      "cell_type": "markdown",
      "metadata": {
        "id": "NrP6jBnNA1gz"
      },
      "source": [
        "Result:"
      ]
    },
    {
      "cell_type": "markdown",
      "metadata": {
        "id": "PLZRM-CqA7Ez"
      },
      "source": [
        "In this Project i have learned by performing this project that is we increase no of hidden layers in model the learning wave of model smooths gradually on the otherside i have seen that the test accuracy also gradually decreases."
      ]
    },
    {
      "cell_type": "markdown",
      "metadata": {
        "id": "4bWxzX21Bg2V"
      },
      "source": [
        "Conclusion:\n",
        "\n",
        "So according to me add more no of neurons as compared to add more no of dense layers in model.\n",
        "Using Callbacks also save your model from overfitting."
      ]
    }
  ]
}