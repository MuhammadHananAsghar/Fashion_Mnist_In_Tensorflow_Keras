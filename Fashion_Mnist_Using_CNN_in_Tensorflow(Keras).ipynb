{
  "nbformat": 4,
  "nbformat_minor": 0,
  "metadata": {
    "colab": {
      "name": "Fashion Mnist Using CNN in Tensorflow(Keras).ipynb",
      "provenance": []
    },
    "kernelspec": {
      "name": "python3",
      "display_name": "Python 3"
    },
    "language_info": {
      "name": "python"
    },
    "accelerator": "GPU"
  },
  "cells": [
    {
      "cell_type": "code",
      "metadata": {
        "id": "Ke_pu8WQPyUs"
      },
      "source": [
        "import tensorflow as tf\n",
        "from tensorflow.keras.models import Sequential\n",
        "from tensorflow.keras.layers import Conv2D\n",
        "from tensorflow.keras.layers import MaxPooling2D\n",
        "from tensorflow.keras.layers import Dense\n",
        "from tensorflow.keras.layers import Flatten\n",
        "from tensorflow.keras.utils import to_categorical\n",
        "\n",
        "import numpy as np\n",
        "import matplotlib.pyplot as plt"
      ],
      "execution_count": null,
      "outputs": []
    },
    {
      "cell_type": "code",
      "metadata": {
        "id": "Tj0OpV0pQbNC"
      },
      "source": [
        "(train_images, train_labels), (test_images, test_labels) = tf.keras.datasets.fashion_mnist.load_data()"
      ],
      "execution_count": null,
      "outputs": []
    },
    {
      "cell_type": "code",
      "metadata": {
        "id": "Y_aULoOKQrsO"
      },
      "source": [
        "train_images = train_images.reshape(-1, 28, 28, 1)\n",
        "test_images = test_images.reshape(-1, 28, 28, 1)"
      ],
      "execution_count": null,
      "outputs": []
    },
    {
      "cell_type": "code",
      "metadata": {
        "colab": {
          "base_uri": "https://localhost:8080/"
        },
        "id": "I0EBH-gTQwSI",
        "outputId": "78375cc1-b2c0-434e-db27-e870d08aad38"
      },
      "source": [
        "print(\"Train Images : \", train_images.shape)\n",
        "print(\"Test Images : \", test_images.shape)"
      ],
      "execution_count": null,
      "outputs": [
        {
          "output_type": "stream",
          "text": [
            "Train Images :  (60000, 28, 28, 1)\n",
            "Test Images :  (10000, 28, 28, 1)\n"
          ],
          "name": "stdout"
        }
      ]
    },
    {
      "cell_type": "code",
      "metadata": {
        "id": "pP3EJf44RI55"
      },
      "source": [
        "train_images = train_images.astype(\"float32\")\n",
        "train_images /= 255.0\n",
        "\n",
        "test_images = test_images.astype(\"float32\")\n",
        "test_images /= 255.0"
      ],
      "execution_count": null,
      "outputs": []
    },
    {
      "cell_type": "code",
      "metadata": {
        "id": "j-jcqzuAXqmu"
      },
      "source": [
        "train_labels = to_categorical(train_labels, num_classes=10)\n",
        "test_labels = to_categorical(test_labels, num_classes=10)"
      ],
      "execution_count": null,
      "outputs": []
    },
    {
      "cell_type": "markdown",
      "metadata": {
        "id": "ZNWhhKXCRXZr"
      },
      "source": [
        "Model"
      ]
    },
    {
      "cell_type": "code",
      "metadata": {
        "id": "3tsLUnEaRWiL"
      },
      "source": [
        "class CNNCallback(tf.keras.callbacks.Callback):\n",
        "  def on_epoch_end(self, epoch, logs={}):\n",
        "    if(logs.get('loss') < 0.1):\n",
        "      print('\\nLoss is low so cancelling training!')\n",
        "      self.model.stop_training = True"
      ],
      "execution_count": null,
      "outputs": []
    },
    {
      "cell_type": "markdown",
      "metadata": {
        "id": "Z48g39pNR7hw"
      },
      "source": [
        "Model 1: One Convolution and Pooling"
      ]
    },
    {
      "cell_type": "code",
      "metadata": {
        "id": "XTzukuQmSH9A"
      },
      "source": [
        "model_one = Sequential()\n",
        "\n",
        "model_one.add(Conv2D(filters=64, kernel_size=3,activation=tf.nn.relu, input_shape=(28, 28, 1)))\n",
        "model_one.add(MaxPooling2D(pool_size=(2, 2)))\n",
        "\n",
        "model_one.add(Flatten())\n",
        "model_one.add(Dense(units=128, activation=tf.nn.relu))\n",
        "model_one.add(Dense(10, activation=tf.nn.softmax))\n",
        "model_one.compile(loss='categorical_crossentropy',\n",
        "                  optimizer='adam',\n",
        "                  metrics=['accuracy'])"
      ],
      "execution_count": null,
      "outputs": []
    },
    {
      "cell_type": "code",
      "metadata": {
        "colab": {
          "base_uri": "https://localhost:8080/"
        },
        "id": "TQfqQyc0WQA-",
        "outputId": "8a97898c-45b4-47b3-dda0-6ab3d0b9474c"
      },
      "source": [
        "# First Model\n",
        "callbacks = CNNCallback()\n",
        "history_one = model_one.fit(train_images, train_labels,\n",
        "                            epochs=10,\n",
        "                            batch_size=32,\n",
        "                            validation_data=(test_images, test_labels), callbacks=[callbacks])"
      ],
      "execution_count": null,
      "outputs": [
        {
          "output_type": "stream",
          "text": [
            "Epoch 1/10\n",
            "1875/1875 [==============================] - 6s 3ms/step - loss: 0.3781 - accuracy: 0.8649 - val_loss: 0.3351 - val_accuracy: 0.8792\n",
            "Epoch 2/10\n",
            "1875/1875 [==============================] - 6s 3ms/step - loss: 0.2523 - accuracy: 0.9067 - val_loss: 0.2773 - val_accuracy: 0.8973\n",
            "Epoch 3/10\n",
            "1875/1875 [==============================] - 5s 3ms/step - loss: 0.2073 - accuracy: 0.9237 - val_loss: 0.2453 - val_accuracy: 0.9109\n",
            "Epoch 4/10\n",
            "1875/1875 [==============================] - 5s 3ms/step - loss: 0.1737 - accuracy: 0.9355 - val_loss: 0.2509 - val_accuracy: 0.9142\n",
            "Epoch 5/10\n",
            "1875/1875 [==============================] - 6s 3ms/step - loss: 0.1465 - accuracy: 0.9466 - val_loss: 0.2628 - val_accuracy: 0.9093\n",
            "Epoch 6/10\n",
            "1875/1875 [==============================] - 6s 3ms/step - loss: 0.1219 - accuracy: 0.9553 - val_loss: 0.2716 - val_accuracy: 0.9122\n",
            "Epoch 7/10\n",
            "1875/1875 [==============================] - 5s 3ms/step - loss: 0.1016 - accuracy: 0.9622 - val_loss: 0.2769 - val_accuracy: 0.9128\n",
            "Epoch 8/10\n",
            "1875/1875 [==============================] - 5s 3ms/step - loss: 0.0837 - accuracy: 0.9687 - val_loss: 0.3018 - val_accuracy: 0.9143\n",
            "\n",
            "Loss is low so cancelling training!\n"
          ],
          "name": "stdout"
        }
      ]
    },
    {
      "cell_type": "code",
      "metadata": {
        "colab": {
          "base_uri": "https://localhost:8080/"
        },
        "id": "bf3v1rpmYU36",
        "outputId": "781ece34-da0d-4585-d6c6-dfeee639bca0"
      },
      "source": [
        "score_one = model_one.evaluate(test_images, test_labels)\n",
        "print(\"Test Loss : \", score_one[0])\n",
        "print(\"Test Accuracy : \", score_one[1])"
      ],
      "execution_count": null,
      "outputs": [
        {
          "output_type": "stream",
          "text": [
            "313/313 [==============================] - 1s 2ms/step - loss: 0.3018 - accuracy: 0.9143\n",
            "Test Loss :  0.3018400967121124\n",
            "Test Accuracy :  0.9143000245094299\n"
          ],
          "name": "stdout"
        }
      ]
    },
    {
      "cell_type": "code",
      "metadata": {
        "colab": {
          "base_uri": "https://localhost:8080/",
          "height": 313
        },
        "id": "ORtjfzxtYayY",
        "outputId": "315116a1-7cdb-41b1-fa97-25c4d31a2137"
      },
      "source": [
        "epochs_one = range(len(history_one.history['accuracy']))\n",
        "plt.plot(epochs_one, history_one.history['val_accuracy'], 'bo', label = 'Validation Accuracy')\n",
        "plt.plot(epochs_one, history_one.history['accuracy'], 'b', label = 'Training Accuracy')\n",
        "plt.xlabel('Epochs')\n",
        "plt.ylabel('Accuracy')\n",
        "plt.title(\"Model_1 Trainind And Validation Accuracy\")\n",
        "plt.legend()"
      ],
      "execution_count": null,
      "outputs": [
        {
          "output_type": "execute_result",
          "data": {
            "text/plain": [
              "<matplotlib.legend.Legend at 0x7f8c4a69fc50>"
            ]
          },
          "metadata": {
            "tags": []
          },
          "execution_count": 32
        },
        {
          "output_type": "display_data",
          "data": {
            "image/png": "[encoded data removed]",
            "text/plain": [
              "<Figure size 432x288 with 1 Axes>"
            ]
          },
          "metadata": {
            "tags": [],
            "needs_background": "light"
          }
        }
      ]
    },
    {
      "cell_type": "code",
      "metadata": {
        "colab": {
          "base_uri": "https://localhost:8080/",
          "height": 313
        },
        "id": "dWQinpYOYgDj",
        "outputId": "440d409c-091c-4fb4-bf16-7bc9784a077f"
      },
      "source": [
        "epochs_one = range(len(history_one.history['accuracy']))\n",
        "plt.plot(epochs_one, history_one.history['val_loss'], 'bo', label = 'Validation Loss')\n",
        "plt.plot(epochs_one, history_one.history['loss'], 'b', label = 'Training Loss')\n",
        "plt.xlabel('Epochs')\n",
        "plt.ylabel('Loss')\n",
        "plt.title(\"Model_1 Trainind And Validation Loss\")\n",
        "plt.legend()"
      ],
      "execution_count": null,
      "outputs": [
        {
          "output_type": "execute_result",
          "data": {
            "text/plain": [
              "<matplotlib.legend.Legend at 0x7f8c4a60ee50>"
            ]
          },
          "metadata": {
            "tags": []
          },
          "execution_count": 33
        },
        {
          "output_type": "display_data",
          "data": {
            "image/png": "[encoded data removed]",
            "text/plain": [
              "<Figure size 432x288 with 1 Axes>"
            ]
          },
          "metadata": {
            "tags": [],
            "needs_background": "light"
          }
        }
      ]
    },
    {
      "cell_type": "markdown",
      "metadata": {
        "id": "E6nIIct5SDQB"
      },
      "source": [
        "Model 2: Two Convolution and Pooling"
      ]
    },
    {
      "cell_type": "code",
      "metadata": {
        "id": "sQEDjYcMS7G2"
      },
      "source": [
        "model_two = Sequential()\n",
        "\n",
        "model_two.add(Conv2D(filters=64, kernel_size=3,activation=tf.nn.relu, input_shape=(28, 28, 1)))\n",
        "model_two.add(MaxPooling2D(pool_size=(2, 2)))\n",
        "\n",
        "model_two.add(Conv2D(filters=64, kernel_size=3,activation=tf.nn.relu, input_shape=(28, 28, 1)))\n",
        "model_two.add(MaxPooling2D(pool_size=(2, 2)))\n",
        "\n",
        "model_two.add(Flatten())\n",
        "model_two.add(Dense(units=128, activation=tf.nn.relu))\n",
        "model_two.add(Dense(10, activation=tf.nn.softmax))\n",
        "model_two.compile(loss='categorical_crossentropy',\n",
        "                  optimizer='adam',\n",
        "                  metrics=['accuracy'])"
      ],
      "execution_count": null,
      "outputs": []
    },
    {
      "cell_type": "code",
      "metadata": {
        "colab": {
          "base_uri": "https://localhost:8080/"
        },
        "id": "4MGfxVb4YrZs",
        "outputId": "47fce461-2bfc-45ae-f8a7-32fdccd0fcf3"
      },
      "source": [
        "# Second Model\n",
        "callbacks = CNNCallback()\n",
        "history_two = model_two.fit(train_images, train_labels,\n",
        "                            epochs=10,\n",
        "                            batch_size=32,\n",
        "                            validation_data=(test_images, test_labels), callbacks=[callbacks])"
      ],
      "execution_count": null,
      "outputs": [
        {
          "output_type": "stream",
          "text": [
            "Epoch 1/10\n",
            "1875/1875 [==============================] - 6s 3ms/step - loss: 0.4351 - accuracy: 0.8426 - val_loss: 0.3381 - val_accuracy: 0.8786\n",
            "Epoch 2/10\n",
            "1875/1875 [==============================] - 6s 3ms/step - loss: 0.2909 - accuracy: 0.8943 - val_loss: 0.2926 - val_accuracy: 0.8933\n",
            "Epoch 3/10\n",
            "1875/1875 [==============================] - 6s 3ms/step - loss: 0.2467 - accuracy: 0.9093 - val_loss: 0.2607 - val_accuracy: 0.9056\n",
            "Epoch 4/10\n",
            "1875/1875 [==============================] - 6s 3ms/step - loss: 0.2148 - accuracy: 0.9200 - val_loss: 0.2689 - val_accuracy: 0.9032\n",
            "Epoch 5/10\n",
            "1875/1875 [==============================] - 6s 3ms/step - loss: 0.1882 - accuracy: 0.9292 - val_loss: 0.2512 - val_accuracy: 0.9093\n",
            "Epoch 6/10\n",
            "1875/1875 [==============================] - 6s 3ms/step - loss: 0.1658 - accuracy: 0.9380 - val_loss: 0.2527 - val_accuracy: 0.9114\n",
            "Epoch 7/10\n",
            "1875/1875 [==============================] - 6s 3ms/step - loss: 0.1460 - accuracy: 0.9444 - val_loss: 0.2620 - val_accuracy: 0.9088\n",
            "Epoch 8/10\n",
            "1875/1875 [==============================] - 6s 3ms/step - loss: 0.1287 - accuracy: 0.9514 - val_loss: 0.2711 - val_accuracy: 0.9105\n",
            "Epoch 9/10\n",
            "1875/1875 [==============================] - 6s 3ms/step - loss: 0.1110 - accuracy: 0.9588 - val_loss: 0.2862 - val_accuracy: 0.9106\n",
            "Epoch 10/10\n",
            "1875/1875 [==============================] - 6s 3ms/step - loss: 0.0998 - accuracy: 0.9628 - val_loss: 0.3123 - val_accuracy: 0.9088\n",
            "\n",
            "Loss is low so cancelling training!\n"
          ],
          "name": "stdout"
        }
      ]
    },
    {
      "cell_type": "code",
      "metadata": {
        "colab": {
          "base_uri": "https://localhost:8080/"
        },
        "id": "ll_1c1A3ZAzS",
        "outputId": "e356d727-f477-4467-b596-f7c21ad10fcb"
      },
      "source": [
        "score_two = model_two.evaluate(test_images, test_labels)\n",
        "print(\"Test Loss : \", score_one[0])\n",
        "print(\"Test Accuracy : \", score_one[1])"
      ],
      "execution_count": null,
      "outputs": [
        {
          "output_type": "stream",
          "text": [
            "313/313 [==============================] - 1s 2ms/step - loss: 0.3123 - accuracy: 0.9088\n",
            "Test Loss :  0.3018400967121124\n",
            "Test Accuracy :  0.9143000245094299\n"
          ],
          "name": "stdout"
        }
      ]
    },
    {
      "cell_type": "code",
      "metadata": {
        "colab": {
          "base_uri": "https://localhost:8080/",
          "height": 313
        },
        "id": "-i-JveARZFBV",
        "outputId": "9dec4d91-7ccc-451a-f90a-e95485c62e61"
      },
      "source": [
        "epochs_two = range(len(history_two.history['accuracy']))\n",
        "plt.plot(epochs_two, history_two.history['val_accuracy'], 'bo', label = 'Validation Accuracy')\n",
        "plt.plot(epochs_two, history_two.history['accuracy'], 'b', label = 'Training Accuracy')\n",
        "plt.xlabel('Epochs')\n",
        "plt.ylabel('Accuracy')\n",
        "plt.title(\"Model_2 Trainind And Validation Accuracy\")\n",
        "plt.legend()"
      ],
      "execution_count": null,
      "outputs": [
        {
          "output_type": "execute_result",
          "data": {
            "text/plain": [
              "<matplotlib.legend.Legend at 0x7f8c46650d10>"
            ]
          },
          "metadata": {
            "tags": []
          },
          "execution_count": 38
        },
        {
          "output_type": "display_data",
          "data": {
            "image/png": "[encoded data removed]",
            "text/plain": [
              "<Figure size 432x288 with 1 Axes>"
            ]
          },
          "metadata": {
            "tags": [],
            "needs_background": "light"
          }
        }
      ]
    },
    {
      "cell_type": "code",
      "metadata": {
        "colab": {
          "base_uri": "https://localhost:8080/",
          "height": 313
        },
        "id": "hbC2VG-gZKD4",
        "outputId": "9a29b2a3-5dfd-4264-83e4-4494f68f76fb"
      },
      "source": [
        "epochs_two = range(len(history_two.history['accuracy']))\n",
        "plt.plot(epochs_two, history_two.history['val_loss'], 'bo', label = 'Validation Loss')\n",
        "plt.plot(epochs_two, history_two.history['loss'], 'b', label = 'Training Loss')\n",
        "plt.xlabel('Epochs')\n",
        "plt.ylabel('Loss')\n",
        "plt.title(\"Model_2 Trainind And Validation Loss\")\n",
        "plt.legend()"
      ],
      "execution_count": null,
      "outputs": [
        {
          "output_type": "execute_result",
          "data": {
            "text/plain": [
              "<matplotlib.legend.Legend at 0x7f8c466cc4d0>"
            ]
          },
          "metadata": {
            "tags": []
          },
          "execution_count": 39
        },
        {
          "output_type": "display_data",
          "data": {
            "image/png": "[encoded data removed]",
            "text/plain": [
              "<Figure size 432x288 with 1 Axes>"
            ]
          },
          "metadata": {
            "tags": [],
            "needs_background": "light"
          }
        }
      ]
    },
    {
      "cell_type": "markdown",
      "metadata": {
        "id": "tfpYrKnLSFfR"
      },
      "source": [
        "Model 3: Three Convolution and Pooling"
      ]
    },
    {
      "cell_type": "code",
      "metadata": {
        "id": "Uf6JJxVFSFBQ"
      },
      "source": [
        "model_three = Sequential()\n",
        "\n",
        "model_three.add(Conv2D(filters=64, kernel_size=3,activation=tf.nn.relu, input_shape=(28, 28, 1)))\n",
        "model_three.add(MaxPooling2D(pool_size=(2, 2)))\n",
        "\n",
        "model_three.add(Conv2D(filters=64, kernel_size=3,activation=tf.nn.relu, input_shape=(28, 28, 1)))\n",
        "model_three.add(MaxPooling2D(pool_size=(2, 2)))\n",
        "\n",
        "model_three.add(Conv2D(filters=64, kernel_size=3,activation=tf.nn.relu, input_shape=(28, 28, 1)))\n",
        "model_three.add(MaxPooling2D(pool_size=(2, 2)))\n",
        "\n",
        "model_three.add(Flatten())\n",
        "model_three.add(Dense(units=128, activation=tf.nn.relu))\n",
        "model_three.add(Dense(10, activation=tf.nn.softmax))\n",
        "model_three.compile(loss='categorical_crossentropy',\n",
        "                  optimizer='adam',\n",
        "                  metrics=['accuracy'])"
      ],
      "execution_count": null,
      "outputs": []
    },
    {
      "cell_type": "code",
      "metadata": {
        "colab": {
          "base_uri": "https://localhost:8080/"
        },
        "id": "DpgDIFVDZTJz",
        "outputId": "fe9f6b33-8c58-4a7f-cc18-9e26ad8fe92f"
      },
      "source": [
        "# Third Model\n",
        "callbacks = CNNCallback()\n",
        "history_three = model_three.fit(train_images, train_labels,\n",
        "                            epochs=10,\n",
        "                            batch_size=32,\n",
        "                            validation_data=(test_images, test_labels), callbacks=[callbacks])"
      ],
      "execution_count": null,
      "outputs": [
        {
          "output_type": "stream",
          "text": [
            "Epoch 1/10\n",
            "1875/1875 [==============================] - 7s 3ms/step - loss: 0.5894 - accuracy: 0.7838 - val_loss: 0.4546 - val_accuracy: 0.8321\n",
            "Epoch 2/10\n",
            "1875/1875 [==============================] - 6s 3ms/step - loss: 0.3940 - accuracy: 0.8549 - val_loss: 0.3851 - val_accuracy: 0.8614\n",
            "Epoch 3/10\n",
            "1875/1875 [==============================] - 6s 3ms/step - loss: 0.3332 - accuracy: 0.8769 - val_loss: 0.3487 - val_accuracy: 0.8697\n",
            "Epoch 4/10\n",
            "1875/1875 [==============================] - 6s 3ms/step - loss: 0.2963 - accuracy: 0.8908 - val_loss: 0.3181 - val_accuracy: 0.8874\n",
            "Epoch 5/10\n",
            "1875/1875 [==============================] - 6s 3ms/step - loss: 0.2684 - accuracy: 0.9010 - val_loss: 0.3205 - val_accuracy: 0.8843\n",
            "Epoch 6/10\n",
            "1875/1875 [==============================] - 6s 3ms/step - loss: 0.2493 - accuracy: 0.9069 - val_loss: 0.3054 - val_accuracy: 0.8909\n",
            "Epoch 7/10\n",
            "1875/1875 [==============================] - 6s 3ms/step - loss: 0.2317 - accuracy: 0.9147 - val_loss: 0.3156 - val_accuracy: 0.8871\n",
            "Epoch 8/10\n",
            "1875/1875 [==============================] - 6s 3ms/step - loss: 0.2157 - accuracy: 0.9201 - val_loss: 0.3460 - val_accuracy: 0.8813\n",
            "Epoch 9/10\n",
            "1875/1875 [==============================] - 6s 3ms/step - loss: 0.2032 - accuracy: 0.9245 - val_loss: 0.3145 - val_accuracy: 0.8919\n",
            "Epoch 10/10\n",
            "1875/1875 [==============================] - 6s 3ms/step - loss: 0.1901 - accuracy: 0.9293 - val_loss: 0.3315 - val_accuracy: 0.8912\n"
          ],
          "name": "stdout"
        }
      ]
    },
    {
      "cell_type": "code",
      "metadata": {
        "colab": {
          "base_uri": "https://localhost:8080/"
        },
        "id": "J3b5yBgSZn1a",
        "outputId": "624f1d42-0f26-4242-b166-ce06d7054121"
      },
      "source": [
        "score_three = model_three.evaluate(test_images, test_labels)\n",
        "print(\"Test Loss : \", score_three[0])\n",
        "print(\"Test Accuracy : \", score_three[1])"
      ],
      "execution_count": null,
      "outputs": [
        {
          "output_type": "stream",
          "text": [
            "313/313 [==============================] - 1s 3ms/step - loss: 0.3496 - accuracy: 0.8886\n",
            "Test Loss :  0.34956327080726624\n",
            "Test Accuracy :  0.8885999917984009\n"
          ],
          "name": "stdout"
        }
      ]
    },
    {
      "cell_type": "code",
      "metadata": {
        "colab": {
          "base_uri": "https://localhost:8080/",
          "height": 313
        },
        "id": "6BEgJY7fZvSn",
        "outputId": "85ae8026-d2cc-4182-92e2-f5c83af7502b"
      },
      "source": [
        "epochs_three = range(len(history_three.history['accuracy']))\n",
        "plt.plot(epochs_three, history_three.history['val_accuracy'], 'bo', label = 'Validation Accuracy')\n",
        "plt.plot(epochs_three, history_three.history['accuracy'], 'b', label = 'Training Accuracy')\n",
        "plt.xlabel('Epochs')\n",
        "plt.ylabel('Accuracy')\n",
        "plt.title(\"Model_3 Trainind And Validation Accuracy\")\n",
        "plt.legend()"
      ],
      "execution_count": null,
      "outputs": [
        {
          "output_type": "execute_result",
          "data": {
            "text/plain": [
              "<matplotlib.legend.Legend at 0x7f8c46342150>"
            ]
          },
          "metadata": {
            "tags": []
          },
          "execution_count": 44
        },
        {
          "output_type": "display_data",
          "data": {
            "image/png": "[encoded data removed]",
            "text/plain": [
              "<Figure size 432x288 with 1 Axes>"
            ]
          },
          "metadata": {
            "tags": [],
            "needs_background": "light"
          }
        }
      ]
    },
    {
      "cell_type": "code",
      "metadata": {
        "colab": {
          "base_uri": "https://localhost:8080/",
          "height": 313
        },
        "id": "A26dc5HIZx8M",
        "outputId": "aeb78846-0a21-4a05-bc85-d943020ac628"
      },
      "source": [
        "epochs_three = range(len(history_three.history['accuracy']))\n",
        "plt.plot(epochs_three, history_three.history['val_loss'], 'bo', label = 'Validation Loss')\n",
        "plt.plot(epochs_three, history_three.history['loss'], 'b', label = 'Training Loss')\n",
        "plt.xlabel('Epochs')\n",
        "plt.ylabel('Loss')\n",
        "plt.title(\"Model_3 Trainind And Validation Loss\")\n",
        "plt.legend()"
      ],
      "execution_count": null,
      "outputs": [
        {
          "output_type": "execute_result",
          "data": {
            "text/plain": [
              "<matplotlib.legend.Legend at 0x7f8c46476f50>"
            ]
          },
          "metadata": {
            "tags": []
          },
          "execution_count": 45
        },
        {
          "output_type": "display_data",
          "data": {
            "image/png": "[encoded data removed]",
            "text/plain": [
              "<Figure size 432x288 with 1 Axes>"
            ]
          },
          "metadata": {
            "tags": [],
            "needs_background": "light"
          }
        }
      ]
    },
    {
      "cell_type": "markdown",
      "metadata": {
        "id": "IB-1GHPmaK6P"
      },
      "source": [
        "Result:\n",
        "\n",
        "Adding more convolution and pooling layers decrease overfitting proble"
      ]
    },
    {
      "cell_type": "code",
      "metadata": {
        "id": "f3XS3s5HZ0A_"
      },
      "source": [
        ""
      ],
      "execution_count": null,
      "outputs": []
    }
  ]
}